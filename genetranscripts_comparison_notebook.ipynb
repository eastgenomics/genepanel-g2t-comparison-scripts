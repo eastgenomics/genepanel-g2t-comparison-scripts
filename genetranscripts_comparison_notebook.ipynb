{
  "cells": [
    {
      "cell_type": "markdown",
      "metadata": {},
      "source": [
        "# DNANexus Login"
      ]
    },
    {
      "cell_type": "code",
      "execution_count": null,
      "metadata": {
        "id": "xG0_2oMtDaKu"
      },
      "outputs": [],
      "source": [
        "!pip install dxpy\n",
        "\n",
        "import dxpy as dx\n",
        "\n",
        "DX_SECURITY_CONTEXT = {\n",
        "        \"auth_token_type\": \"Bearer\",\n",
        "        \"auth_token\": ''\n",
        "    }\n",
        "\n",
        "dx.set_security_context(DX_SECURITY_CONTEXT)\n",
        "\n",
        "dx.whoami()"
      ]
    },
    {
      "cell_type": "markdown",
      "metadata": {},
      "source": [
        "# Comparison"
      ]
    },
    {
      "cell_type": "code",
      "execution_count": null,
      "metadata": {
        "id": "ILEmD8LJD2iu"
      },
      "outputs": [],
      "source": [
        "old_genetranscript_dxfile = dx.DXFile('file-GV4P970433Gj6812zGVBZvB4').read() #230421\n",
        "new_genetranscript_dxfile = dx.DXFile('file-GgBG6p8433Gg7XK69fG7P9j7').read()"
      ]
    },
    {
      "cell_type": "code",
      "execution_count": null,
      "metadata": {
        "id": "KGHWbYl_D2k5"
      },
      "outputs": [],
      "source": [
        "import pandas as pd\n",
        "\n",
        "old_gt = pd.DataFrame([row.split('\\t') for row in old_genetranscript_dxfile.split('\\n')], columns=['hgnc', 'transcript', 'clinical', 'canonical'])\n",
        "new_gt = pd.DataFrame([row.split('\\t') for row in new_genetranscript_dxfile.split('\\n')], columns=['hgnc', 'transcript', 'clinical', 'canonical'])\n",
        "\n",
        "old_gt.dropna(inplace=True)\n",
        "new_gt.dropna(inplace=True)"
      ]
    },
    {
      "cell_type": "code",
      "execution_count": null,
      "metadata": {
        "id": "wSATtuwQD2m-"
      },
      "outputs": [],
      "source": [
        "import collections\n",
        "\n",
        "old_hgnc_to_transcripts = collections.defaultdict(list)\n",
        "old_hgnc_tx_to_clinical = collections.defaultdict(list)# if multiple clinical?\n",
        "\n",
        "for idx, row in old_gt.iterrows():\n",
        "  hgnc = row['hgnc'].strip()\n",
        "  tx = row['transcript'].strip()\n",
        "  clinical = row['clinical'].strip() == 'clinical_transcript'\n",
        "\n",
        "  if clinical:\n",
        "    old_hgnc_tx_to_clinical[hgnc].append(tx)\n",
        "\n",
        "  old_hgnc_to_transcripts[hgnc].append(tx)\n",
        "\n",
        "new_hgnc_to_transcripts = collections.defaultdict(list)\n",
        "new_hgnc_tx_to_clinical = collections.defaultdict(list) # if multiple clinical?\n",
        "\n",
        "for idx, row in new_gt.iterrows():\n",
        "  hgnc = row['hgnc'].strip()\n",
        "  tx = row['transcript'].strip()\n",
        "  clinical = row['clinical'].strip() == 'clinical_transcript'\n",
        "\n",
        "  if clinical:\n",
        "    new_hgnc_tx_to_clinical[hgnc].append(tx)\n",
        "\n",
        "  new_hgnc_to_transcripts[hgnc].append(tx)"
      ]
    },
    {
      "cell_type": "code",
      "execution_count": null,
      "metadata": {
        "colab": {
          "base_uri": "https://localhost:8080/"
        },
        "id": "yT_ElIziD2pF",
        "outputId": "e55cf444-5980-4ff3-a47e-af4d56a12330"
      },
      "outputs": [
        {
          "name": "stdout",
          "output_type": "stream",
          "text": [
            "No HGNCs in old genepanel that is removed in new genepanel\n",
            "No new added HGNC in new genepanel compared to old genepanel\n"
          ]
        }
      ],
      "source": [
        "# old and new g2t comparison\n",
        "\n",
        "missing_in_new = set(old_hgnc_to_transcripts.keys()) - set(new_hgnc_to_transcripts.keys())\n",
        "added_in_new = set(new_hgnc_to_transcripts.keys()) - set(old_hgnc_to_transcripts.keys())\n",
        "\n",
        "if missing_in_new:\n",
        "  print(f'Missing HGNCs in new genepanel: {missing_in_new}')\n",
        "  print(f'Number of HGNC missing in new genepanel that were in old genepanel: {len(missing_in_new)}')\n",
        "else:\n",
        "  print('No HGNCs in old genepanel that is removed in new genepanel')\n",
        "\n",
        "if added_in_new:\n",
        "  print(f'Added HGNCs in new genepanel: {added_in_new}')\n",
        "  print(f'Number of new HGNC added in new genepanel that are not in old genepanel: {len(added_in_new)}')\n",
        "else:\n",
        "  print('No new added HGNC in new genepanel compared to old genepanel')"
      ]
    },
    {
      "cell_type": "code",
      "execution_count": null,
      "metadata": {
        "id": "OWPHz70LZWBy"
      },
      "outputs": [],
      "source": [
        "# new genepanel file\n",
        "\n",
        "new_genepanel = dx.DXFile('file-GgBG75Q433Gk4pY5qpxbgVyz').read() # make sure this version of genepanel match the g2t version"
      ]
    },
    {
      "cell_type": "code",
      "execution_count": null,
      "metadata": {
        "id": "ZuYdMbniZeYZ"
      },
      "outputs": [],
      "source": [
        "new_genepanel_df = pd.DataFrame([line.split('\\t') for line in new_genepanel.split('\\n')], columns=['Gemini Name', 'Panel','Gene', \"Panel ID\"])\n",
        "new_genepanel_df.dropna(inplace=True)\n",
        "new_genepanel_genes = new_genepanel_df['Gene'].values.tolist()"
      ]
    },
    {
      "cell_type": "code",
      "execution_count": null,
      "metadata": {
        "colab": {
          "base_uri": "https://localhost:8080/"
        },
        "id": "hL4EidzgZebN",
        "outputId": "26c49722-124b-4b8a-888e-ea4c2f3af18a"
      },
      "outputs": [
        {
          "name": "stdout",
          "output_type": "stream",
          "text": [
            "All genes in genepanels are present in g2t\n"
          ]
        }
      ],
      "source": [
        "# genes in genepanel but not in g2t\n",
        "diff = set(new_genepanel_genes) - set(new_hgnc_to_transcripts.keys())\n",
        "\n",
        "if diff:\n",
        "  print(f'{diff} genes are in new genepanels but not in new g2t')\n",
        "  print(f'{len(diff)} genes in new genepanels but not in new g2t')\n",
        "else:\n",
        "  print('All genes in genepanels are present in g2t')"
      ]
    },
    {
      "cell_type": "code",
      "execution_count": null,
      "metadata": {
        "id": "WIqpjuvDD2rb"
      },
      "outputs": [],
      "source": [
        "# existing gene comparison\n",
        "\n",
        "note = []\n",
        "\n",
        "for hgnc, transcripts in old_hgnc_to_transcripts.items():\n",
        "  if hgnc not in new_hgnc_to_transcripts:\n",
        "    note.append([hgnc, 'this gene does not exist in new g2t.', None])\n",
        "    continue\n",
        "\n",
        "  comment = \"\"\n",
        "\n",
        "  # compare between tx\n",
        "  new_transcripts = new_hgnc_to_transcripts[hgnc]\n",
        "  if set(transcripts) == set(new_transcripts):\n",
        "    comment += \"tx remain the same. \"\n",
        "  else:\n",
        "    comment += \"tx have changed! \"\n",
        "\n",
        "    added_tx = set(new_transcripts) - set(transcripts)\n",
        "    if added_tx:\n",
        "      comment += f\"{added_tx} are newly added. \"\n",
        "\n",
        "    removed_tx = set(transcripts) - set(new_transcripts)\n",
        "    if removed_tx:\n",
        "      comment += f\"{removed_tx} are removed. \"\n",
        "\n",
        "  # compare between clinical tx\n",
        "  clinical_comment = \"\"\n",
        "\n",
        "  old_clinical = old_hgnc_tx_to_clinical.get(hgnc, False)\n",
        "  new_clinical = new_hgnc_tx_to_clinical.get(hgnc, False)\n",
        "\n",
        "  if not old_clinical and not new_clinical:\n",
        "    clinical_comment += \"both old and new have no clinical transcript assigned. \"\n",
        "  elif old_clinical and not new_clinical:\n",
        "    clinical_comment += f\"old clinical is {old_clinical} but new clinical is not assigned. \"\n",
        "  elif not old_clinical and new_clinical:\n",
        "    clinical_comment += f\"old clinical is not assigned but new clinical is {new_clinical}. \"\n",
        "  else:\n",
        "    # both have values. do comparison\n",
        "    pass\n",
        "\n",
        "  if old_clinical and new_clinical: # if both aren't False, then we can compare\n",
        "    if set(old_clinical) == set(new_clinical):\n",
        "      clinical_comment += \"old and new clinical tx remain the same. \"\n",
        "    else:\n",
        "      clinical_comment += f\"clinical tx changed from {old_clinical} to {new_clinical}\"\n",
        "\n",
        "\n",
        "  note.append([hgnc, comment, clinical_comment, new_transcripts, transcripts, old_clinical, new_clinical])"
      ]
    },
    {
      "cell_type": "code",
      "execution_count": null,
      "metadata": {
        "id": "jsursRyJD2tv"
      },
      "outputs": [],
      "source": [
        "pd.DataFrame(\n",
        "    note,\n",
        "    columns=[\n",
        "        'hgnc',\n",
        "        'comment',\n",
        "        'clinical comment',\n",
        "        'new tx',\n",
        "        'old tx',\n",
        "        'old clinical',\n",
        "        'new clinical']).to_csv('g2t_comparison.csv', index=False) # save the df as csv"
      ]
    },
    {
      "cell_type": "code",
      "execution_count": null,
      "metadata": {
        "id": "W4VlAQQiD2v1"
      },
      "outputs": [],
      "source": []
    },
    {
      "cell_type": "code",
      "execution_count": null,
      "metadata": {
        "id": "2Hpv-Sa1D2x6"
      },
      "outputs": [],
      "source": []
    },
    {
      "cell_type": "code",
      "execution_count": null,
      "metadata": {
        "id": "AadhtwNzD20C"
      },
      "outputs": [],
      "source": []
    },
    {
      "cell_type": "code",
      "execution_count": null,
      "metadata": {
        "id": "eoSfrwuTD22G"
      },
      "outputs": [],
      "source": []
    },
    {
      "cell_type": "code",
      "execution_count": null,
      "metadata": {
        "id": "zeNJZeLSD24L"
      },
      "outputs": [],
      "source": []
    },
    {
      "cell_type": "code",
      "execution_count": null,
      "metadata": {
        "id": "h1w0SHm6D26S"
      },
      "outputs": [],
      "source": []
    },
    {
      "cell_type": "code",
      "execution_count": null,
      "metadata": {
        "id": "QLI57EJ5D28n"
      },
      "outputs": [],
      "source": []
    },
    {
      "cell_type": "code",
      "execution_count": null,
      "metadata": {
        "id": "_GhndoaND2-s"
      },
      "outputs": [],
      "source": []
    },
    {
      "cell_type": "code",
      "execution_count": null,
      "metadata": {
        "id": "AttbGkdwD3Ax"
      },
      "outputs": [],
      "source": []
    }
  ],
  "metadata": {
    "colab": {
      "provenance": []
    },
    "kernelspec": {
      "display_name": "Python 3",
      "name": "python3"
    },
    "language_info": {
      "name": "python"
    }
  },
  "nbformat": 4,
  "nbformat_minor": 0
}
